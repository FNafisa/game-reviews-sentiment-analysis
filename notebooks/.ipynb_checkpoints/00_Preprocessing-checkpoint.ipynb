{
 "cells": [
  {
   "cell_type": "markdown",
   "id": "38ff872b",
   "metadata": {},
   "source": [
    "## To do:\n",
    "\n",
    "* Extract names(nouns), places, countries\n",
    "* EDA\n",
    "* Sentiment analysis --> PCA? SVD? CorEx?\n",
    "* Modeling"
   ]
  },
  {
   "cell_type": "code",
   "execution_count": 1,
   "id": "f5040bc4",
   "metadata": {},
   "outputs": [],
   "source": [
    "import pandas as pd\n",
    "import numpy as np\n",
    "import re\n",
    "from nltk.tokenize import word_tokenize\n",
    "from nltk.tag import pos_tag"
   ]
  },
  {
   "cell_type": "code",
   "execution_count": 2,
   "id": "44f275f6",
   "metadata": {},
   "outputs": [],
   "source": [
    "# read data\n",
    "data = pd.read_csv(\"../data/raw/steam_negative_reviews-ENGLISH.csv\")"
   ]
  },
  {
   "cell_type": "code",
   "execution_count": 3,
   "id": "0ffa9b68",
   "metadata": {},
   "outputs": [
    {
     "data": {
      "text/html": [
       "<div>\n",
       "<style scoped>\n",
       "    .dataframe tbody tr th:only-of-type {\n",
       "        vertical-align: middle;\n",
       "    }\n",
       "\n",
       "    .dataframe tbody tr th {\n",
       "        vertical-align: top;\n",
       "    }\n",
       "\n",
       "    .dataframe thead th {\n",
       "        text-align: right;\n",
       "    }\n",
       "</style>\n",
       "<table border=\"1\" class=\"dataframe\">\n",
       "  <thead>\n",
       "    <tr style=\"text-align: right;\">\n",
       "      <th></th>\n",
       "      <th>app_id</th>\n",
       "      <th>app_name</th>\n",
       "      <th>review_id</th>\n",
       "      <th>language</th>\n",
       "      <th>review</th>\n",
       "      <th>timestamp_created</th>\n",
       "      <th>timestamp_updated</th>\n",
       "      <th>recommended</th>\n",
       "      <th>votes_helpful</th>\n",
       "      <th>votes_funny</th>\n",
       "      <th>...</th>\n",
       "      <th>steam_purchase</th>\n",
       "      <th>received_for_free</th>\n",
       "      <th>written_during_early_access</th>\n",
       "      <th>author.steamid</th>\n",
       "      <th>author.num_games_owned</th>\n",
       "      <th>author.num_reviews</th>\n",
       "      <th>author.playtime_forever</th>\n",
       "      <th>author.playtime_last_two_weeks</th>\n",
       "      <th>author.playtime_at_review</th>\n",
       "      <th>author.last_played</th>\n",
       "    </tr>\n",
       "  </thead>\n",
       "  <tbody>\n",
       "    <tr>\n",
       "      <th>0</th>\n",
       "      <td>292030</td>\n",
       "      <td>The Witcher 3: Wild Hunt</td>\n",
       "      <td>85155206</td>\n",
       "      <td>english</td>\n",
       "      <td>They certainly dumbed down the series since th...</td>\n",
       "      <td>1611337043</td>\n",
       "      <td>1611337043</td>\n",
       "      <td>False</td>\n",
       "      <td>0</td>\n",
       "      <td>0</td>\n",
       "      <td>...</td>\n",
       "      <td>True</td>\n",
       "      <td>False</td>\n",
       "      <td>False</td>\n",
       "      <td>76561198010955177</td>\n",
       "      <td>379</td>\n",
       "      <td>73</td>\n",
       "      <td>8966.0</td>\n",
       "      <td>0.0</td>\n",
       "      <td>8966.0</td>\n",
       "      <td>1.514417e+09</td>\n",
       "    </tr>\n",
       "    <tr>\n",
       "      <th>1</th>\n",
       "      <td>292030</td>\n",
       "      <td>The Witcher 3: Wild Hunt</td>\n",
       "      <td>85128129</td>\n",
       "      <td>english</td>\n",
       "      <td>terribly bugs, keeps kicking me out to home sc...</td>\n",
       "      <td>1611299056</td>\n",
       "      <td>1611299056</td>\n",
       "      <td>False</td>\n",
       "      <td>0</td>\n",
       "      <td>0</td>\n",
       "      <td>...</td>\n",
       "      <td>True</td>\n",
       "      <td>False</td>\n",
       "      <td>False</td>\n",
       "      <td>76561198332696736</td>\n",
       "      <td>23</td>\n",
       "      <td>1</td>\n",
       "      <td>8565.0</td>\n",
       "      <td>4973.0</td>\n",
       "      <td>8442.0</td>\n",
       "      <td>1.611364e+09</td>\n",
       "    </tr>\n",
       "    <tr>\n",
       "      <th>2</th>\n",
       "      <td>292030</td>\n",
       "      <td>The Witcher 3: Wild Hunt</td>\n",
       "      <td>85109753</td>\n",
       "      <td>english</td>\n",
       "      <td>While there is a lot of content, the game love...</td>\n",
       "      <td>1611265004</td>\n",
       "      <td>1611265004</td>\n",
       "      <td>False</td>\n",
       "      <td>0</td>\n",
       "      <td>0</td>\n",
       "      <td>...</td>\n",
       "      <td>True</td>\n",
       "      <td>False</td>\n",
       "      <td>False</td>\n",
       "      <td>76561198098346837</td>\n",
       "      <td>507</td>\n",
       "      <td>47</td>\n",
       "      <td>2081.0</td>\n",
       "      <td>0.0</td>\n",
       "      <td>2081.0</td>\n",
       "      <td>1.606027e+09</td>\n",
       "    </tr>\n",
       "    <tr>\n",
       "      <th>3</th>\n",
       "      <td>292030</td>\n",
       "      <td>The Witcher 3: Wild Hunt</td>\n",
       "      <td>85088505</td>\n",
       "      <td>english</td>\n",
       "      <td>badbadbadbadbadbadbadbadbadbadbadbadbadbadbadb...</td>\n",
       "      <td>1611235321</td>\n",
       "      <td>1611235321</td>\n",
       "      <td>False</td>\n",
       "      <td>1</td>\n",
       "      <td>0</td>\n",
       "      <td>...</td>\n",
       "      <td>True</td>\n",
       "      <td>False</td>\n",
       "      <td>False</td>\n",
       "      <td>76561199013170832</td>\n",
       "      <td>40</td>\n",
       "      <td>15</td>\n",
       "      <td>1079.0</td>\n",
       "      <td>0.0</td>\n",
       "      <td>1079.0</td>\n",
       "      <td>1.597714e+09</td>\n",
       "    </tr>\n",
       "    <tr>\n",
       "      <th>4</th>\n",
       "      <td>292030</td>\n",
       "      <td>The Witcher 3: Wild Hunt</td>\n",
       "      <td>85064415</td>\n",
       "      <td>english</td>\n",
       "      <td>after serious consideration, I think this game...</td>\n",
       "      <td>1611195190</td>\n",
       "      <td>1611195190</td>\n",
       "      <td>False</td>\n",
       "      <td>1</td>\n",
       "      <td>1</td>\n",
       "      <td>...</td>\n",
       "      <td>True</td>\n",
       "      <td>False</td>\n",
       "      <td>False</td>\n",
       "      <td>76561198085431842</td>\n",
       "      <td>206</td>\n",
       "      <td>65</td>\n",
       "      <td>2031.0</td>\n",
       "      <td>0.0</td>\n",
       "      <td>2031.0</td>\n",
       "      <td>1.594446e+09</td>\n",
       "    </tr>\n",
       "  </tbody>\n",
       "</table>\n",
       "<p>5 rows × 22 columns</p>\n",
       "</div>"
      ],
      "text/plain": [
       "   app_id                  app_name  review_id language  \\\n",
       "0  292030  The Witcher 3: Wild Hunt   85155206  english   \n",
       "1  292030  The Witcher 3: Wild Hunt   85128129  english   \n",
       "2  292030  The Witcher 3: Wild Hunt   85109753  english   \n",
       "3  292030  The Witcher 3: Wild Hunt   85088505  english   \n",
       "4  292030  The Witcher 3: Wild Hunt   85064415  english   \n",
       "\n",
       "                                              review  timestamp_created  \\\n",
       "0  They certainly dumbed down the series since th...         1611337043   \n",
       "1  terribly bugs, keeps kicking me out to home sc...         1611299056   \n",
       "2  While there is a lot of content, the game love...         1611265004   \n",
       "3  badbadbadbadbadbadbadbadbadbadbadbadbadbadbadb...         1611235321   \n",
       "4  after serious consideration, I think this game...         1611195190   \n",
       "\n",
       "   timestamp_updated  recommended  votes_helpful  votes_funny  ...  \\\n",
       "0         1611337043        False              0            0  ...   \n",
       "1         1611299056        False              0            0  ...   \n",
       "2         1611265004        False              0            0  ...   \n",
       "3         1611235321        False              1            0  ...   \n",
       "4         1611195190        False              1            1  ...   \n",
       "\n",
       "   steam_purchase  received_for_free  written_during_early_access  \\\n",
       "0            True              False                        False   \n",
       "1            True              False                        False   \n",
       "2            True              False                        False   \n",
       "3            True              False                        False   \n",
       "4            True              False                        False   \n",
       "\n",
       "      author.steamid  author.num_games_owned  author.num_reviews  \\\n",
       "0  76561198010955177                     379                  73   \n",
       "1  76561198332696736                      23                   1   \n",
       "2  76561198098346837                     507                  47   \n",
       "3  76561199013170832                      40                  15   \n",
       "4  76561198085431842                     206                  65   \n",
       "\n",
       "   author.playtime_forever  author.playtime_last_two_weeks  \\\n",
       "0                   8966.0                             0.0   \n",
       "1                   8565.0                          4973.0   \n",
       "2                   2081.0                             0.0   \n",
       "3                   1079.0                             0.0   \n",
       "4                   2031.0                             0.0   \n",
       "\n",
       "   author.playtime_at_review  author.last_played  \n",
       "0                     8966.0        1.514417e+09  \n",
       "1                     8442.0        1.611364e+09  \n",
       "2                     2081.0        1.606027e+09  \n",
       "3                     1079.0        1.597714e+09  \n",
       "4                     2031.0        1.594446e+09  \n",
       "\n",
       "[5 rows x 22 columns]"
      ]
     },
     "execution_count": 3,
     "metadata": {},
     "output_type": "execute_result"
    }
   ],
   "source": [
    "data.head()"
   ]
  },
  {
   "cell_type": "code",
   "execution_count": 4,
   "id": "f3b02aa5",
   "metadata": {},
   "outputs": [
    {
     "data": {
      "text/plain": [
       "(1050993, 22)"
      ]
     },
     "execution_count": 4,
     "metadata": {},
     "output_type": "execute_result"
    }
   ],
   "source": [
    "data.shape"
   ]
  },
  {
   "cell_type": "code",
   "execution_count": 3,
   "id": "203756f6",
   "metadata": {},
   "outputs": [],
   "source": [
    "# function developed by Rafał Wójcik from https://towardsdatascience.com/unsupervised-sentiment-analysis-a38bf1906483\n",
    "# with some minor changes\n",
    "\n",
    "def clean_text(text):\n",
    "    ''' Pre process and convert texts to a list of words \n",
    "    method inspired by method from eliorc github repo: https://github.com/eliorc/Medium/blob/master/MaLSTM.ipynb'''\n",
    "    \n",
    "    text = str(text)\n",
    "    text = text.lower()\n",
    "\n",
    "    # Clean the text\n",
    "    text = re.sub(r\"[^A-Za-z0-9^,!?.\\/'+]\", \" \", text)\n",
    "    text = re.sub(r\"\\+\", \" \", text)\n",
    "    text = re.sub(r\",\", \" \", text)\n",
    "    text = re.sub(r\"\\.\", \" \", text)\n",
    "    text = re.sub(r\"!\", \" \", text)\n",
    "    text = re.sub(r\"\\?\", \" \", text)\n",
    "    text = re.sub(r\":\", \" : \", text)\n",
    "    text = re.sub(r\"\\s{2,}\", \" \", text)\n",
    "    text = re.sub(r\"[0-9]\", \" \", text)\n",
    "\n",
    "    text = text.split()\n",
    "\n",
    "    return text\n"
   ]
  },
  {
   "cell_type": "code",
   "execution_count": 4,
   "id": "738025b0",
   "metadata": {},
   "outputs": [],
   "source": [
    "data['review'] = data['review'].apply(lambda x: clean_text(x))"
   ]
  },
  {
   "cell_type": "code",
   "execution_count": 5,
   "id": "aec49fb9",
   "metadata": {
    "scrolled": true
   },
   "outputs": [
    {
     "data": {
      "text/plain": [
       "0          [they, certainly, dumbed, down, the, series, s...\n",
       "1          [terribly, bugs, keeps, kicking, me, out, to, ...\n",
       "2          [while, there, is, a, lot, of, content, the, g...\n",
       "3                                                      [nan]\n",
       "4          [after, serious, consideration, i, think, this...\n",
       "                                 ...                        \n",
       "1050988    [as, of, day, of, release, system, ryzen, sli,...\n",
       "1050989           [game, crashes, to, desktop, cannot, play]\n",
       "1050990    [im, gonna, be, clear, cant, say, that, its, a...\n",
       "1050991    [as, a, half, life, game, i, dunno, it, just, ...\n",
       "1050992    [no, proper, smooth, locomotion, its, a, game,...\n",
       "Name: review, Length: 1050993, dtype: object"
      ]
     },
     "execution_count": 5,
     "metadata": {},
     "output_type": "execute_result"
    }
   ],
   "source": [
    "# dealing with words with too many characters\n",
    "data['review'] = data['review'].apply(lambda x: [i if len(i)<27 else np.nan  for i in x])"
   ]
  },
  {
   "cell_type": "code",
   "execution_count": 6,
   "id": "1167507b",
   "metadata": {},
   "outputs": [],
   "source": [
    "data['review'] = data['review'].apply(lambda x: ' '.join(x))"
   ]
  },
  {
   "cell_type": "code",
   "execution_count": 8,
   "id": "c69f98e1",
   "metadata": {},
   "outputs": [
    {
     "data": {
      "text/plain": [
       "\"they certainly dumbed down the series since the last release sure it raked in a larger audience but it sacrificed what is was previously in the process which was once well written and unique instead became copy paste and bland the game completely omits that triss did nothing but screw geralt over with everything she's done involving for the sorceresses lodge most likely just to have her as a romance option this isn't the only thing it omits either nothing says player hand holding like geralt's detective vision removing any player involvement in questing and geralt's permanent monologuing to ensure the player knows what they're seeing scene to scene on the rollercoaster most quests will follow the same formula of talk to person get told to go somewhere while at somewhere learn the person you talked to first is morally dubious but so is the new person you meet in the quest get money from either person and move on to next quest the combat isn't as good as the predecessor there's very little thought put into it which isn't really witcher like unsure how many variants of x time of day wraith there really are but they're overused in this gwent was a good minigame and the minigame shouldn't be more enjoyable than the actual game unfortunately gwent was also poorly balanced fixed by the spin off expansion of gwent that you can play instead with more balance but more child friendly too because swearing is bad all in all it's a shame they had some fantastic ideas in the game that were ruined by trying to dumb everything else down as much as possible it's also a great and interesting world the gameplay is dull and generic quite the meh experience for what could have been so much more\""
      ]
     },
     "execution_count": 8,
     "metadata": {},
     "output_type": "execute_result"
    }
   ],
   "source": [
    "data['review'][0]"
   ]
  },
  {
   "cell_type": "code",
   "execution_count": 9,
   "id": "25975bae",
   "metadata": {},
   "outputs": [],
   "source": [
    "token = pos_tag(word_tokenize(str(data['review'][0])))"
   ]
  },
  {
   "cell_type": "code",
   "execution_count": 10,
   "id": "af29da95",
   "metadata": {
    "scrolled": false
   },
   "outputs": [
    {
     "name": "stdout",
     "output_type": "stream",
     "text": [
      "5 series NN\n",
      "9 release NN\n",
      "16 audience NN\n",
      "26 process NN\n",
      "37 paste NN\n",
      "41 game NN\n",
      "45 triss NN\n",
      "47 nothing NN\n",
      "50 geralt NN\n",
      "53 everything NN\n",
      "70 romance NN\n",
      "71 option NN\n",
      "77 thing NN\n",
      "81 nothing NN\n",
      "83 player NN\n",
      "84 hand NN\n",
      "87 geralt NN\n",
      "90 vision NN\n",
      "93 player NN\n",
      "94 involvement NN\n",
      "98 geralt NN\n",
      "101 monologuing NN\n",
      "105 player NN\n",
      "111 scene NN\n",
      "116 rollercoaster NN\n",
      "123 formula NN\n",
      "125 talk NN\n",
      "127 person NN\n",
      "138 person NN\n",
      "151 person NN\n",
      "157 get NN\n",
      "158 money NN\n",
      "161 person NN\n",
      "167 quest NN\n",
      "169 combat NN\n",
      "176 predecessor NN\n",
      "181 thought NN\n",
      "197 time NN\n",
      "199 day NN\n",
      "210 gwent NN\n",
      "214 minigame NN\n",
      "217 minigame NN\n",
      "226 game NN\n",
      "228 gwent NN\n",
      "236 spin NN\n",
      "238 expansion NN\n",
      "240 gwent NN\n",
      "248 balance NN\n",
      "255 swearing NN\n",
      "264 shame NN\n",
      "272 game NN\n",
      "280 everything NN\n",
      "294 world NN\n",
      "296 gameplay NN\n",
      "303 meh NN\n",
      "304 experience NN\n"
     ]
    }
   ],
   "source": [
    "for i, j in enumerate(token):\n",
    "        if j[1]=='NN':\n",
    "            print(i,j[0],j[1])"
   ]
  },
  {
   "cell_type": "code",
   "execution_count": null,
   "id": "7aa51eb6",
   "metadata": {},
   "outputs": [],
   "source": []
  }
 ],
 "metadata": {
  "kernelspec": {
   "display_name": "t5",
   "language": "python",
   "name": "t5"
  },
  "language_info": {
   "codemirror_mode": {
    "name": "ipython",
    "version": 3
   },
   "file_extension": ".py",
   "mimetype": "text/x-python",
   "name": "python",
   "nbconvert_exporter": "python",
   "pygments_lexer": "ipython3",
   "version": "3.7.11"
  }
 },
 "nbformat": 4,
 "nbformat_minor": 5
}
