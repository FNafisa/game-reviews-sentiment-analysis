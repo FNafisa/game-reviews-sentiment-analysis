{
 "cells": [
  {
   "cell_type": "code",
   "execution_count": 1,
   "id": "8411f747",
   "metadata": {},
   "outputs": [],
   "source": [
    "import pandas as pd\n",
    "import numpy as np"
   ]
  },
  {
   "cell_type": "code",
   "execution_count": 2,
   "id": "b2b1c7cc",
   "metadata": {},
   "outputs": [],
   "source": [
    "data = pd.read_csv(\"../data/raw/steam_reviews-ENGLISH-sample.csv\")"
   ]
  },
  {
   "cell_type": "code",
   "execution_count": 3,
   "id": "25d33955",
   "metadata": {},
   "outputs": [
    {
     "data": {
      "text/html": [
       "<div>\n",
       "<style scoped>\n",
       "    .dataframe tbody tr th:only-of-type {\n",
       "        vertical-align: middle;\n",
       "    }\n",
       "\n",
       "    .dataframe tbody tr th {\n",
       "        vertical-align: top;\n",
       "    }\n",
       "\n",
       "    .dataframe thead th {\n",
       "        text-align: right;\n",
       "    }\n",
       "</style>\n",
       "<table border=\"1\" class=\"dataframe\">\n",
       "  <thead>\n",
       "    <tr style=\"text-align: right;\">\n",
       "      <th></th>\n",
       "      <th>app_id</th>\n",
       "      <th>app_name</th>\n",
       "      <th>review_id</th>\n",
       "      <th>language</th>\n",
       "      <th>review</th>\n",
       "      <th>timestamp_created</th>\n",
       "      <th>timestamp_updated</th>\n",
       "      <th>recommended</th>\n",
       "      <th>votes_helpful</th>\n",
       "      <th>votes_funny</th>\n",
       "      <th>...</th>\n",
       "      <th>steam_purchase</th>\n",
       "      <th>received_for_free</th>\n",
       "      <th>written_during_early_access</th>\n",
       "      <th>author.steamid</th>\n",
       "      <th>author.num_games_owned</th>\n",
       "      <th>author.num_reviews</th>\n",
       "      <th>author.playtime_forever</th>\n",
       "      <th>author.playtime_last_two_weeks</th>\n",
       "      <th>author.playtime_at_review</th>\n",
       "      <th>author.last_played</th>\n",
       "    </tr>\n",
       "  </thead>\n",
       "  <tbody>\n",
       "    <tr>\n",
       "      <th>0</th>\n",
       "      <td>292030</td>\n",
       "      <td>The Witcher 3: Wild Hunt</td>\n",
       "      <td>85184605</td>\n",
       "      <td>english</td>\n",
       "      <td>One of the best RPG's of all time, worthy of a...</td>\n",
       "      <td>1611379970</td>\n",
       "      <td>1611379970</td>\n",
       "      <td>True</td>\n",
       "      <td>0</td>\n",
       "      <td>0</td>\n",
       "      <td>...</td>\n",
       "      <td>True</td>\n",
       "      <td>False</td>\n",
       "      <td>False</td>\n",
       "      <td>76561199054755373</td>\n",
       "      <td>5</td>\n",
       "      <td>3</td>\n",
       "      <td>5587.0</td>\n",
       "      <td>3200.0</td>\n",
       "      <td>5524.0</td>\n",
       "      <td>1.611384e+09</td>\n",
       "    </tr>\n",
       "    <tr>\n",
       "      <th>1</th>\n",
       "      <td>292030</td>\n",
       "      <td>The Witcher 3: Wild Hunt</td>\n",
       "      <td>85184171</td>\n",
       "      <td>english</td>\n",
       "      <td>good story, good graphics. lots to do.</td>\n",
       "      <td>1611379264</td>\n",
       "      <td>1611379264</td>\n",
       "      <td>True</td>\n",
       "      <td>0</td>\n",
       "      <td>0</td>\n",
       "      <td>...</td>\n",
       "      <td>True</td>\n",
       "      <td>False</td>\n",
       "      <td>False</td>\n",
       "      <td>76561198170193529</td>\n",
       "      <td>11</td>\n",
       "      <td>1</td>\n",
       "      <td>823.0</td>\n",
       "      <td>823.0</td>\n",
       "      <td>823.0</td>\n",
       "      <td>1.611379e+09</td>\n",
       "    </tr>\n",
       "    <tr>\n",
       "      <th>2</th>\n",
       "      <td>292030</td>\n",
       "      <td>The Witcher 3: Wild Hunt</td>\n",
       "      <td>85184064</td>\n",
       "      <td>english</td>\n",
       "      <td>dis gud,</td>\n",
       "      <td>1611379091</td>\n",
       "      <td>1611379091</td>\n",
       "      <td>True</td>\n",
       "      <td>0</td>\n",
       "      <td>0</td>\n",
       "      <td>...</td>\n",
       "      <td>True</td>\n",
       "      <td>False</td>\n",
       "      <td>False</td>\n",
       "      <td>76561198119302812</td>\n",
       "      <td>27</td>\n",
       "      <td>2</td>\n",
       "      <td>4192.0</td>\n",
       "      <td>3398.0</td>\n",
       "      <td>4192.0</td>\n",
       "      <td>1.611352e+09</td>\n",
       "    </tr>\n",
       "    <tr>\n",
       "      <th>3</th>\n",
       "      <td>292030</td>\n",
       "      <td>The Witcher 3: Wild Hunt</td>\n",
       "      <td>85180436</td>\n",
       "      <td>english</td>\n",
       "      <td>favorite game of all time cant wait for the Ne...</td>\n",
       "      <td>1611373086</td>\n",
       "      <td>1611373086</td>\n",
       "      <td>True</td>\n",
       "      <td>0</td>\n",
       "      <td>0</td>\n",
       "      <td>...</td>\n",
       "      <td>True</td>\n",
       "      <td>False</td>\n",
       "      <td>False</td>\n",
       "      <td>76561198065591528</td>\n",
       "      <td>33</td>\n",
       "      <td>1</td>\n",
       "      <td>23329.0</td>\n",
       "      <td>177.0</td>\n",
       "      <td>23329.0</td>\n",
       "      <td>1.611219e+09</td>\n",
       "    </tr>\n",
       "    <tr>\n",
       "      <th>4</th>\n",
       "      <td>292030</td>\n",
       "      <td>The Witcher 3: Wild Hunt</td>\n",
       "      <td>85179753</td>\n",
       "      <td>english</td>\n",
       "      <td>Why wouldn't you get this</td>\n",
       "      <td>1611371978</td>\n",
       "      <td>1611371978</td>\n",
       "      <td>True</td>\n",
       "      <td>0</td>\n",
       "      <td>0</td>\n",
       "      <td>...</td>\n",
       "      <td>True</td>\n",
       "      <td>False</td>\n",
       "      <td>False</td>\n",
       "      <td>76561198996835044</td>\n",
       "      <td>131</td>\n",
       "      <td>2</td>\n",
       "      <td>8557.0</td>\n",
       "      <td>2004.0</td>\n",
       "      <td>8557.0</td>\n",
       "      <td>1.611371e+09</td>\n",
       "    </tr>\n",
       "  </tbody>\n",
       "</table>\n",
       "<p>5 rows × 22 columns</p>\n",
       "</div>"
      ],
      "text/plain": [
       "   app_id                  app_name  review_id language  \\\n",
       "0  292030  The Witcher 3: Wild Hunt   85184605  english   \n",
       "1  292030  The Witcher 3: Wild Hunt   85184171  english   \n",
       "2  292030  The Witcher 3: Wild Hunt   85184064  english   \n",
       "3  292030  The Witcher 3: Wild Hunt   85180436  english   \n",
       "4  292030  The Witcher 3: Wild Hunt   85179753  english   \n",
       "\n",
       "                                              review  timestamp_created  \\\n",
       "0  One of the best RPG's of all time, worthy of a...         1611379970   \n",
       "1             good story, good graphics. lots to do.         1611379264   \n",
       "2                                           dis gud,         1611379091   \n",
       "3  favorite game of all time cant wait for the Ne...         1611373086   \n",
       "4                          Why wouldn't you get this         1611371978   \n",
       "\n",
       "   timestamp_updated  recommended  votes_helpful  votes_funny  ...  \\\n",
       "0         1611379970         True              0            0  ...   \n",
       "1         1611379264         True              0            0  ...   \n",
       "2         1611379091         True              0            0  ...   \n",
       "3         1611373086         True              0            0  ...   \n",
       "4         1611371978         True              0            0  ...   \n",
       "\n",
       "   steam_purchase  received_for_free  written_during_early_access  \\\n",
       "0            True              False                        False   \n",
       "1            True              False                        False   \n",
       "2            True              False                        False   \n",
       "3            True              False                        False   \n",
       "4            True              False                        False   \n",
       "\n",
       "      author.steamid  author.num_games_owned  author.num_reviews  \\\n",
       "0  76561199054755373                       5                   3   \n",
       "1  76561198170193529                      11                   1   \n",
       "2  76561198119302812                      27                   2   \n",
       "3  76561198065591528                      33                   1   \n",
       "4  76561198996835044                     131                   2   \n",
       "\n",
       "   author.playtime_forever  author.playtime_last_two_weeks  \\\n",
       "0                   5587.0                          3200.0   \n",
       "1                    823.0                           823.0   \n",
       "2                   4192.0                          3398.0   \n",
       "3                  23329.0                           177.0   \n",
       "4                   8557.0                          2004.0   \n",
       "\n",
       "   author.playtime_at_review  author.last_played  \n",
       "0                     5524.0        1.611384e+09  \n",
       "1                      823.0        1.611379e+09  \n",
       "2                     4192.0        1.611352e+09  \n",
       "3                    23329.0        1.611219e+09  \n",
       "4                     8557.0        1.611371e+09  \n",
       "\n",
       "[5 rows x 22 columns]"
      ]
     },
     "execution_count": 3,
     "metadata": {},
     "output_type": "execute_result"
    }
   ],
   "source": [
    "data.head()"
   ]
  },
  {
   "cell_type": "code",
   "execution_count": 6,
   "id": "5c9474d9",
   "metadata": {},
   "outputs": [
    {
     "data": {
      "text/plain": [
       "(100000, 22)"
      ]
     },
     "execution_count": 6,
     "metadata": {},
     "output_type": "execute_result"
    }
   ],
   "source": [
    "data.shape"
   ]
  },
  {
   "cell_type": "code",
   "execution_count": 4,
   "id": "88978791",
   "metadata": {},
   "outputs": [
    {
     "name": "stdout",
     "output_type": "stream",
     "text": [
      "0 app_id\n",
      "1 app_name\n",
      "2 review_id\n",
      "3 language\n",
      "4 review\n",
      "5 timestamp_created\n",
      "6 timestamp_updated\n",
      "7 recommended\n",
      "8 votes_helpful\n",
      "9 votes_funny\n",
      "10 weighted_vote_score\n",
      "11 comment_count\n",
      "12 steam_purchase\n",
      "13 received_for_free\n",
      "14 written_during_early_access\n",
      "15 author.steamid\n",
      "16 author.num_games_owned\n",
      "17 author.num_reviews\n",
      "18 author.playtime_forever\n",
      "19 author.playtime_last_two_weeks\n",
      "20 author.playtime_at_review\n",
      "21 author.last_played\n"
     ]
    }
   ],
   "source": [
    "for i, c in enumerate(data.columns):\n",
    "    print(i, c)"
   ]
  },
  {
   "cell_type": "code",
   "execution_count": 7,
   "id": "de7873ac",
   "metadata": {},
   "outputs": [
    {
     "data": {
      "text/plain": [
       "Index(['app_id', 'app_name', 'review_id', 'language', 'review',\n",
       "       'timestamp_created', 'timestamp_updated', 'recommended',\n",
       "       'votes_helpful', 'votes_funny', 'weighted_vote_score', 'comment_count',\n",
       "       'steam_purchase', 'received_for_free', 'written_during_early_access',\n",
       "       'author.steamid', 'author.num_games_owned', 'author.num_reviews',\n",
       "       'author.playtime_forever', 'author.playtime_last_two_weeks',\n",
       "       'author.playtime_at_review', 'author.last_played'],\n",
       "      dtype='object')"
      ]
     },
     "execution_count": 7,
     "metadata": {},
     "output_type": "execute_result"
    }
   ],
   "source": [
    "data.columns"
   ]
  },
  {
   "cell_type": "code",
   "execution_count": 35,
   "id": "4ae0fd17",
   "metadata": {},
   "outputs": [
    {
     "data": {
      "text/plain": [
       "'They certainly dumbed down the series since the last release. Sure it raked in a larger audience but it sacrificed what is was previously in the process, which was once well written and unique instead became copy-paste and bland. The game completely omits that Triss did nothing but screw Geralt over with everything she\\'s done involving for the Sorceresses Lodge, most likely just to have her as a romance option. This isn\\'t the only thing it omits either.\\n\\nNothing says player hand holding like Geralt\\'s *detective vision* removing any player involvement in questing, and Geralt\\'s permanent monologuing to ensure the player knows what they\\'re seeing scene to scene on the rollercoaster. Most quests will follow the same formula of: Talk to person > get told to go somewhere > while at somewhere, learn the person you talked to first is morally dubious > but so is the new person you meet in the quest > get money from either person and move on to next quest.\\n\\nThe combat isn\\'t as good as the predecessor, there\\'s very little thought put into it, which isn\\'t really Witcher-like. Unsure how many variants of \"x time of day\" wraith there really are, but they\\'re overused in this. \\n\\nGwent was a good minigame, and the minigame shouldn\\'t be more enjoyable than the actual game. Unfortunately, Gwent was also poorly balanced. Fixed by the spin off expansion of Gwent that you can play instead with more balance, but more child friendly too, because swearing is bad.\\n\\nAll in all it\\'s a shame, they had some fantastic ideas in the game that were ruined by trying to dumb everything else down as much as possible. It\\'s also a great and interesting world. The gameplay is dull and generic. Quite the \"meh\" experience, for what could have been so much more.'"
      ]
     },
     "execution_count": 35,
     "metadata": {},
     "output_type": "execute_result"
    }
   ],
   "source": [
    "data[data['weighted_vote_score'] >= 0.4]['review'][35]"
   ]
  },
  {
   "cell_type": "code",
   "execution_count": 34,
   "id": "fad70ab1",
   "metadata": {},
   "outputs": [
    {
     "data": {
      "text/plain": [
       "False"
      ]
     },
     "execution_count": 34,
     "metadata": {},
     "output_type": "execute_result"
    }
   ],
   "source": [
    "data[data['weighted_vote_score'] >= 0.4]['recommended'][35]"
   ]
  },
  {
   "cell_type": "code",
   "execution_count": 36,
   "id": "28eff68e",
   "metadata": {},
   "outputs": [
    {
     "data": {
      "text/plain": [
       "0.4761904776096344"
      ]
     },
     "execution_count": 36,
     "metadata": {},
     "output_type": "execute_result"
    }
   ],
   "source": [
    "data[data['weighted_vote_score'] >= 0.4]['weighted_vote_score'][35]"
   ]
  },
  {
   "cell_type": "markdown",
   "id": "f970fd40",
   "metadata": {},
   "source": [
    "> #### Two ways to approach our project; supervised learning and use \"recommended\" column as a label, or unsupervised and use clustering to segment positive and negative reviews. Pending decision."
   ]
  }
 ],
 "metadata": {
  "kernelspec": {
   "display_name": "t5",
   "language": "python",
   "name": "t5"
  },
  "language_info": {
   "codemirror_mode": {
    "name": "ipython",
    "version": 3
   },
   "file_extension": ".py",
   "mimetype": "text/x-python",
   "name": "python",
   "nbconvert_exporter": "python",
   "pygments_lexer": "ipython3",
   "version": "3.7.11"
  }
 },
 "nbformat": 4,
 "nbformat_minor": 5
}
