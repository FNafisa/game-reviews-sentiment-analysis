{
 "cells": [
  {
   "cell_type": "code",
   "execution_count": 1,
   "id": "96bbf41c",
   "metadata": {},
   "outputs": [],
   "source": [
    "from profanity import profanity\n",
    "import spacy\n",
    "import pandas as pd\n",
    "import numpy as np\n",
    "import re\n",
    "from nltk.tokenize import word_tokenize\n",
    "from nltk.tag import pos_tag"
   ]
  },
  {
   "cell_type": "code",
   "execution_count": 2,
   "id": "07223c60",
   "metadata": {},
   "outputs": [
    {
     "data": {
      "text/plain": [
       "True"
      ]
     },
     "execution_count": 2,
     "metadata": {},
     "output_type": "execute_result"
    }
   ],
   "source": [
    "profanity.contains_profanity(\"this game is bitch good\")"
   ]
  },
  {
   "cell_type": "code",
   "execution_count": null,
   "id": "fd667303",
   "metadata": {},
   "outputs": [],
   "source": [
    "profanity.censor()"
   ]
  },
  {
   "cell_type": "code",
   "execution_count": 13,
   "id": "2860193a",
   "metadata": {},
   "outputs": [
    {
     "data": {
      "text/plain": [
       "'c:\\\\Users\\\\fahadd\\\\T5_Bootcamp_directory\\\\PROJECTS\\\\game-reviews-sentiment-analysis\\\\workspace\\\\notebooks'"
      ]
     },
     "execution_count": 13,
     "metadata": {},
     "output_type": "execute_result"
    }
   ],
   "source": [
    "pwd"
   ]
  },
  {
   "cell_type": "code",
   "execution_count": 15,
   "id": "43e89474",
   "metadata": {},
   "outputs": [],
   "source": [
    "# read data\n",
    "data = pd.read_csv(\"../../data/steam_reviews-ENGLISH-sample-preprocessed.csv\")"
   ]
  },
  {
   "cell_type": "code",
   "execution_count": 17,
   "id": "18212964",
   "metadata": {},
   "outputs": [
    {
     "data": {
      "text/plain": [
       "False"
      ]
     },
     "execution_count": 17,
     "metadata": {},
     "output_type": "execute_result"
    }
   ],
   "source": [
    "profanity.contains_profanity(data['review'][0])"
   ]
  },
  {
   "cell_type": "code",
   "execution_count": 8,
   "id": "af2ba265",
   "metadata": {},
   "outputs": [
    {
     "ename": "ProfanityFilterError",
     "evalue": "Couldn't load Spacy model for any of languages: en",
     "output_type": "error",
     "traceback": [
      "\u001b[1;31m---------------------------------------------------------------------------\u001b[0m",
      "\u001b[1;31mProfanityFilterError\u001b[0m                      Traceback (most recent call last)",
      "\u001b[1;32m~\\AppData\\Local\\Temp/ipykernel_14500/1446046482.py\u001b[0m in \u001b[0;36m<module>\u001b[1;34m\u001b[0m\n\u001b[0;32m      1\u001b[0m \u001b[1;32mfrom\u001b[0m \u001b[0mprofanity_filter\u001b[0m \u001b[1;32mimport\u001b[0m \u001b[0mProfanityFilter\u001b[0m\u001b[1;33m\u001b[0m\u001b[1;33m\u001b[0m\u001b[0m\n\u001b[0;32m      2\u001b[0m \u001b[1;33m\u001b[0m\u001b[0m\n\u001b[1;32m----> 3\u001b[1;33m \u001b[0mpf\u001b[0m \u001b[1;33m=\u001b[0m \u001b[0mProfanityFilter\u001b[0m\u001b[1;33m(\u001b[0m\u001b[1;33m)\u001b[0m\u001b[1;33m\u001b[0m\u001b[1;33m\u001b[0m\u001b[0m\n\u001b[0m\u001b[0;32m      4\u001b[0m \u001b[1;33m\u001b[0m\u001b[0m\n\u001b[0;32m      5\u001b[0m \u001b[0mpf\u001b[0m\u001b[1;33m.\u001b[0m\u001b[0mcensor\u001b[0m\u001b[1;33m(\u001b[0m\u001b[1;34m\"That's bullshit!\"\u001b[0m\u001b[1;33m)\u001b[0m\u001b[1;33m\u001b[0m\u001b[1;33m\u001b[0m\u001b[0m\n",
      "\u001b[1;32mc:\\Users\\fahadd\\T5_Bootcamp_directory\\PROJECTS\\game-reviews-sentiment-analysis\\.venv\\lib\\site-packages\\profanity_filter\\profanity_filter.py\u001b[0m in \u001b[0;36m__init__\u001b[1;34m(self, languages, analyses, cache_redis_connection_url, censor_char, censor_whole_words, custom_profane_word_dictionaries, extra_profane_word_dictionaries, max_relative_distance, morphs, nlps, spells)\u001b[0m\n\u001b[0;32m    136\u001b[0m \u001b[1;33m\u001b[0m\u001b[0m\n\u001b[0;32m    137\u001b[0m         \u001b[1;32mwith\u001b[0m \u001b[0mself\u001b[0m\u001b[1;33m.\u001b[0m\u001b[0m_disabled_cache_clearing\u001b[0m\u001b[1;33m(\u001b[0m\u001b[1;33m)\u001b[0m\u001b[1;33m:\u001b[0m\u001b[1;33m\u001b[0m\u001b[1;33m\u001b[0m\u001b[0m\n\u001b[1;32m--> 138\u001b[1;33m             self.config(\n\u001b[0m\u001b[0;32m    139\u001b[0m                 \u001b[0mlanguages\u001b[0m\u001b[1;33m=\u001b[0m\u001b[0mlanguages\u001b[0m\u001b[1;33m,\u001b[0m\u001b[1;33m\u001b[0m\u001b[1;33m\u001b[0m\u001b[0m\n\u001b[0;32m    140\u001b[0m                 \u001b[0manalyses\u001b[0m\u001b[1;33m=\u001b[0m\u001b[0manalyses\u001b[0m\u001b[1;33m,\u001b[0m\u001b[1;33m\u001b[0m\u001b[1;33m\u001b[0m\u001b[0m\n",
      "\u001b[1;32mc:\\Users\\fahadd\\T5_Bootcamp_directory\\PROJECTS\\game-reviews-sentiment-analysis\\.venv\\lib\\site-packages\\profanity_filter\\profanity_filter.py\u001b[0m in \u001b[0;36mconfig\u001b[1;34m(self, languages, analyses, cache_redis_connection_url, censor_char, censor_whole_words, custom_profane_word_dictionaries, extra_profane_word_dictionaries, max_relative_distance, morphs, nlps, spells)\u001b[0m\n\u001b[0;32m    173\u001b[0m         \u001b[0mself\u001b[0m\u001b[1;33m.\u001b[0m\u001b[0mextra_profane_word_dictionaries\u001b[0m \u001b[1;33m=\u001b[0m \u001b[0mextra_profane_word_dictionaries\u001b[0m\u001b[1;33m\u001b[0m\u001b[1;33m\u001b[0m\u001b[0m\n\u001b[0;32m    174\u001b[0m         \u001b[0mself\u001b[0m\u001b[1;33m.\u001b[0m\u001b[0mmax_relative_distance\u001b[0m \u001b[1;33m=\u001b[0m \u001b[0mmax_relative_distance\u001b[0m\u001b[1;33m\u001b[0m\u001b[1;33m\u001b[0m\u001b[0m\n\u001b[1;32m--> 175\u001b[1;33m         \u001b[0mself\u001b[0m\u001b[1;33m.\u001b[0m\u001b[0m_set_languages\u001b[0m\u001b[1;33m(\u001b[0m\u001b[0mlanguages\u001b[0m\u001b[1;33m,\u001b[0m \u001b[0mload_morphs\u001b[0m\u001b[1;33m=\u001b[0m\u001b[0mmorphs\u001b[0m \u001b[1;32mis\u001b[0m \u001b[1;32mNone\u001b[0m\u001b[1;33m,\u001b[0m \u001b[0mload_nlps\u001b[0m\u001b[1;33m=\u001b[0m\u001b[0mnlps\u001b[0m \u001b[1;32mis\u001b[0m \u001b[1;32mNone\u001b[0m\u001b[1;33m,\u001b[0m \u001b[0mload_spells\u001b[0m\u001b[1;33m=\u001b[0m\u001b[0mspells\u001b[0m \u001b[1;32mis\u001b[0m \u001b[1;32mNone\u001b[0m\u001b[1;33m)\u001b[0m\u001b[1;33m\u001b[0m\u001b[1;33m\u001b[0m\u001b[0m\n\u001b[0m\u001b[0;32m    176\u001b[0m         \u001b[1;32mif\u001b[0m \u001b[0mmorphs\u001b[0m \u001b[1;32mis\u001b[0m \u001b[1;32mnot\u001b[0m \u001b[1;32mNone\u001b[0m\u001b[1;33m:\u001b[0m\u001b[1;33m\u001b[0m\u001b[1;33m\u001b[0m\u001b[0m\n\u001b[0;32m    177\u001b[0m             \u001b[0mself\u001b[0m\u001b[1;33m.\u001b[0m\u001b[0mmorphs\u001b[0m \u001b[1;33m=\u001b[0m \u001b[0mmorphs\u001b[0m\u001b[1;33m\u001b[0m\u001b[1;33m\u001b[0m\u001b[0m\n",
      "\u001b[1;32mc:\\Users\\fahadd\\T5_Bootcamp_directory\\PROJECTS\\game-reviews-sentiment-analysis\\.venv\\lib\\site-packages\\profanity_filter\\profanity_filter.py\u001b[0m in \u001b[0;36m_set_languages\u001b[1;34m(self, value, load_morphs, load_nlps, load_spells)\u001b[0m\n\u001b[0;32m    428\u001b[0m             \u001b[0mself\u001b[0m\u001b[1;33m.\u001b[0m\u001b[0mmorphs\u001b[0m \u001b[1;33m=\u001b[0m \u001b[1;32mNone\u001b[0m\u001b[1;33m\u001b[0m\u001b[1;33m\u001b[0m\u001b[0m\n\u001b[0;32m    429\u001b[0m         \u001b[1;32mif\u001b[0m \u001b[0mload_nlps\u001b[0m\u001b[1;33m:\u001b[0m\u001b[1;33m\u001b[0m\u001b[1;33m\u001b[0m\u001b[0m\n\u001b[1;32m--> 430\u001b[1;33m             \u001b[0mself\u001b[0m\u001b[1;33m.\u001b[0m\u001b[0mnlps\u001b[0m \u001b[1;33m=\u001b[0m \u001b[1;32mNone\u001b[0m\u001b[1;33m\u001b[0m\u001b[1;33m\u001b[0m\u001b[0m\n\u001b[0m\u001b[0;32m    431\u001b[0m         \u001b[1;32mif\u001b[0m \u001b[0mload_spells\u001b[0m\u001b[1;33m:\u001b[0m\u001b[1;33m\u001b[0m\u001b[1;33m\u001b[0m\u001b[0m\n\u001b[0;32m    432\u001b[0m             \u001b[0mself\u001b[0m\u001b[1;33m.\u001b[0m\u001b[0mspells\u001b[0m \u001b[1;33m=\u001b[0m \u001b[1;32mNone\u001b[0m\u001b[1;33m\u001b[0m\u001b[1;33m\u001b[0m\u001b[0m\n",
      "\u001b[1;32mc:\\Users\\fahadd\\T5_Bootcamp_directory\\PROJECTS\\game-reviews-sentiment-analysis\\.venv\\lib\\site-packages\\profanity_filter\\profanity_filter.py\u001b[0m in \u001b[0;36mnlps\u001b[1;34m(self, value)\u001b[0m\n\u001b[0;32m    347\u001b[0m                     \u001b[0mself\u001b[0m\u001b[1;33m.\u001b[0m\u001b[0m_nlps\u001b[0m\u001b[1;33m[\u001b[0m\u001b[0mlanguage\u001b[0m\u001b[1;33m]\u001b[0m\u001b[1;33m.\u001b[0m\u001b[0madd_pipe\u001b[0m\u001b[1;33m(\u001b[0m\u001b[0mself\u001b[0m\u001b[1;33m.\u001b[0m\u001b[0mspacy_component\u001b[0m\u001b[1;33m,\u001b[0m \u001b[0mlast\u001b[0m\u001b[1;33m=\u001b[0m\u001b[1;32mTrue\u001b[0m\u001b[1;33m)\u001b[0m\u001b[1;33m\u001b[0m\u001b[1;33m\u001b[0m\u001b[0m\n\u001b[0;32m    348\u001b[0m             \u001b[1;32mif\u001b[0m \u001b[1;32mnot\u001b[0m \u001b[0mself\u001b[0m\u001b[1;33m.\u001b[0m\u001b[0m_nlps\u001b[0m\u001b[1;33m:\u001b[0m\u001b[1;33m\u001b[0m\u001b[1;33m\u001b[0m\u001b[0m\n\u001b[1;32m--> 349\u001b[1;33m                 \u001b[1;32mraise\u001b[0m \u001b[0mProfanityFilterError\u001b[0m\u001b[1;33m(\u001b[0m\u001b[1;34mf\"Couldn't load Spacy model for any of languages: {self.languages_str}\"\u001b[0m\u001b[1;33m)\u001b[0m\u001b[1;33m\u001b[0m\u001b[1;33m\u001b[0m\u001b[0m\n\u001b[0m\u001b[0;32m    350\u001b[0m \u001b[1;33m\u001b[0m\u001b[0m\n\u001b[0;32m    351\u001b[0m     \u001b[1;33m@\u001b[0m\u001b[0mcached_property\u001b[0m\u001b[1;33m\u001b[0m\u001b[1;33m\u001b[0m\u001b[0m\n",
      "\u001b[1;31mProfanityFilterError\u001b[0m: Couldn't load Spacy model for any of languages: en"
     ]
    }
   ],
   "source": [
    "from profanity_filter import ProfanityFilter\n",
    "\n",
    "pf = ProfanityFilter()\n",
    "\n",
    "pf.censor(\"That's bullshit!\")\n",
    "# \"That's ********!\"\n",
    "\n"
   ]
  },
  {
   "cell_type": "code",
   "execution_count": null,
   "id": "58c4f36f",
   "metadata": {},
   "outputs": [],
   "source": [
    "pf.censor_word('fuck')\n",
    "# Word(uncensored='fuck', censored='****', original_profane_word='fuck')"
   ]
  },
  {
   "cell_type": "code",
   "execution_count": 6,
   "id": "2361ec28",
   "metadata": {},
   "outputs": [],
   "source": [
    "nlp = spacy.load('en_core_web_sm')"
   ]
  },
  {
   "cell_type": "code",
   "execution_count": null,
   "id": "86aaeaaf",
   "metadata": {},
   "outputs": [],
   "source": []
  }
 ],
 "metadata": {
  "interpreter": {
   "hash": "55c50e57b5ff80c9abead7ba658cb835658ed2573a847f0829416b7414a9d431"
  },
  "kernelspec": {
   "display_name": "t5",
   "language": "python",
   "name": "python3"
  },
  "language_info": {
   "codemirror_mode": {
    "name": "ipython",
    "version": 3
   },
   "file_extension": ".py",
   "mimetype": "text/x-python",
   "name": "python",
   "nbconvert_exporter": "python",
   "pygments_lexer": "ipython3",
   "version": "3.9.7"
  }
 },
 "nbformat": 4,
 "nbformat_minor": 5
}
