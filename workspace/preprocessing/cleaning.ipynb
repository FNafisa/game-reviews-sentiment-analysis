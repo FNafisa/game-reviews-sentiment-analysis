{
 "cells": [
  {
   "cell_type": "code",
   "execution_count": 71,
   "metadata": {},
   "outputs": [],
   "source": [
    "import pandas as pd\n",
    "import numpy as np\n",
    "import spacy\n",
    "import re\n",
    "from nltk.chunk import ne_chunk\n",
    "from nltk.tag import pos_tag\n",
    "from nltk.tokenize import RegexpTokenizer\n",
    "from nltk.tokenize import word_tokenize"
   ]
  },
  {
   "cell_type": "code",
   "execution_count": 21,
   "metadata": {},
   "outputs": [
    {
     "name": "stdout",
     "output_type": "stream",
     "text": [
      "c:\\Users\\user\\T5\\PROJECT\\game-reviews-sentiment-analysis\n"
     ]
    }
   ],
   "source": [
    "cd .."
   ]
  },
  {
   "cell_type": "code",
   "execution_count": 23,
   "metadata": {},
   "outputs": [
    {
     "name": "stdout",
     "output_type": "stream",
     "text": [
      "c:\\Users\\user\\T5\\PROJECT\\game-reviews-sentiment-analysis\\data\n"
     ]
    }
   ],
   "source": [
    "cd ../data"
   ]
  },
  {
   "cell_type": "code",
   "execution_count": 50,
   "metadata": {},
   "outputs": [],
   "source": [
    "negative_reviews = pd.read_csv(\"steam_negative_reviews-ENGLISH.csv\")"
   ]
  },
  {
   "cell_type": "code",
   "execution_count": 54,
   "metadata": {},
   "outputs": [],
   "source": [
    "def clean_text(text):\n",
    "    text = str(text)\n",
    "    text = text.lower()\n",
    "\n",
    "    # Clean the text\n",
    "    text = re.sub(r\"[^A-Za-z0-9^,!?.\\/'+]\", \" \", text)\n",
    "    text = re.sub(r\"\\+\", \" \", text)\n",
    "    text = re.sub(r\",\", \" \", text)\n",
    "    text = re.sub(r\"\\.\", \" \", text)\n",
    "    text = re.sub(r\"!\", \" \", text)\n",
    "    text = re.sub(r\"\\?\", \" \", text)\n",
    "    text = re.sub(r\"'\", \" \", text)\n",
    "    text = re.sub(r\":\", \" : \", text)\n",
    "    text = re.sub(r\"\\s{2,}\", \" \", text)\n",
    "    text = re.sub(r\"[0-9]\", \" \", text)\n",
    "\n",
    "    text = text.split()\n",
    "\n",
    "    return text"
   ]
  },
  {
   "cell_type": "code",
   "execution_count": 55,
   "metadata": {},
   "outputs": [],
   "source": [
    "negative_reviews['review'] = negative_reviews['review'].apply(lambda x: clean_text(x))"
   ]
  },
  {
   "cell_type": "code",
   "execution_count": 56,
   "metadata": {},
   "outputs": [
    {
     "data": {
      "text/plain": [
       "0          [they, certainly, dumbed, down, the, series, s...\n",
       "1          [terribly, bugs, keeps, kicking, me, out, to, ...\n",
       "2          [while, there, is, a, lot, of, content, the, g...\n",
       "3          [badbadbadbadbadbadbadbadbadbadbadbadbadbadbad...\n",
       "4          [after, serious, consideration, i, think, this...\n",
       "                                 ...                        \n",
       "1050988    [as, of, day, of, release, system, ryzen, sli,...\n",
       "1050989           [game, crashes, to, desktop, cannot, play]\n",
       "1050990    [im, gonna, be, clear, cant, say, that, its, a...\n",
       "1050991    [as, a, half, life, game, i, dunno, it, just, ...\n",
       "1050992    [no, proper, smooth, locomotion, its, a, game,...\n",
       "Name: review, Length: 1050993, dtype: object"
      ]
     },
     "execution_count": 56,
     "metadata": {},
     "output_type": "execute_result"
    }
   ],
   "source": [
    "negative_reviews['review']"
   ]
  },
  {
   "cell_type": "code",
   "execution_count": 62,
   "metadata": {},
   "outputs": [],
   "source": [
    "negative_reviews['review']= negative_reviews['review'].apply(lambda x: ' '.join((x)))"
   ]
  },
  {
   "cell_type": "code",
   "execution_count": 64,
   "metadata": {},
   "outputs": [],
   "source": [
    "nlp = spacy.load('en_core_web_sm')"
   ]
  },
  {
   "cell_type": "code",
   "execution_count": 63,
   "metadata": {},
   "outputs": [
    {
     "data": {
      "text/plain": [
       "0          they certainly dumbed down the series since th...\n",
       "1          terribly bugs keeps kicking me out to home scr...\n",
       "2          while there is a lot of content the game loves...\n",
       "3          badbadbadbadbadbadbadbadbadbadbadbadbadbadbadb...\n",
       "4          after serious consideration i think this game ...\n",
       "                                 ...                        \n",
       "1050988    as of day of release system ryzen sli gtx rift...\n",
       "1050989                  game crashes to desktop cannot play\n",
       "1050990    im gonna be clear cant say that its a bad game...\n",
       "1050991    as a half life game i dunno it just doesn t fe...\n",
       "1050992    no proper smooth locomotion its a game based a...\n",
       "Name: review, Length: 1050993, dtype: object"
      ]
     },
     "execution_count": 63,
     "metadata": {},
     "output_type": "execute_result"
    }
   ],
   "source": [
    "negative_reviews['review']"
   ]
  },
  {
   "cell_type": "code",
   "execution_count": 34,
   "metadata": {},
   "outputs": [],
   "source": [
    "negative_reviews.review= negative_reviews.review.apply(lambda x: str(x).split())"
   ]
  },
  {
   "cell_type": "code",
   "execution_count": 35,
   "metadata": {},
   "outputs": [],
   "source": [
    "negative_reviews.review= negative_reviews['review'].apply(lambda x: [i if len(i)<27 else np.nan for i in x])"
   ]
  },
  {
   "cell_type": "code",
   "execution_count": 36,
   "metadata": {},
   "outputs": [
    {
     "data": {
      "text/plain": [
       "0          [They, certainly, dumbed, down, the, series, s...\n",
       "1          [terribly, bugs,, keeps, kicking, me, out, to,...\n",
       "2          [While, there, is, a, lot, of, content,, the, ...\n",
       "3                                                      [nan]\n",
       "4          [after, serious, consideration,, I, think, thi...\n",
       "                                 ...                        \n",
       "1050988    [As, of, day, of, release:, System:, Ryzen, 27...\n",
       "1050989           [Game, crashes, to, desktop, cannot, play]\n",
       "1050990    [im, gonna, be, clear,, cant, say, that, its, ...\n",
       "1050991    [As, a, Half-Life, game..., I, dunno,, it, jus...\n",
       "1050992    [No, proper, smooth, locomotion,, its, a, game...\n",
       "Name: review, Length: 1050993, dtype: object"
      ]
     },
     "execution_count": 36,
     "metadata": {},
     "output_type": "execute_result"
    }
   ],
   "source": [
    "negative_reviews.review"
   ]
  },
  {
   "cell_type": "code",
   "execution_count": 42,
   "metadata": {},
   "outputs": [
    {
     "data": {
      "text/plain": [
       "0          [ ' T h e y ' ,   ' c e r t a i n l y ' ,   ' ...\n",
       "1          [ ' t e r r i b l y ' ,   ' b u g s , ' ,   ' ...\n",
       "2          [ ' W h i l e ' ,   ' t h e r e ' ,   ' i s ' ...\n",
       "3                                                  [ n a n ]\n",
       "4          [ ' a f t e r ' ,   ' s e r i o u s ' ,   ' c ...\n",
       "                                 ...                        \n",
       "1050988    [ ' A s ' ,   ' o f ' ,   ' d a y ' ,   ' o f ...\n",
       "1050989    [ ' G a m e ' ,   ' c r a s h e s ' ,   ' t o ...\n",
       "1050990    [ ' i m ' ,   ' g o n n a ' ,   ' b e ' ,   ' ...\n",
       "1050991    [ ' A s ' ,   ' a ' ,   ' H a l f - L i f e ' ...\n",
       "1050992    [ ' N o ' ,   ' p r o p e r ' ,   ' s m o o t ...\n",
       "Name: review, Length: 1050993, dtype: object"
      ]
     },
     "execution_count": 42,
     "metadata": {},
     "output_type": "execute_result"
    }
   ],
   "source": [
    "negative_reviews['review'].apply(lambda x: ' '.join(str(x)))"
   ]
  },
  {
   "cell_type": "code",
   "execution_count": 68,
   "metadata": {},
   "outputs": [],
   "source": [
    "review1= negative_reviews['review'][0]"
   ]
  },
  {
   "cell_type": "code",
   "execution_count": 74,
   "metadata": {},
   "outputs": [
    {
     "name": "stderr",
     "output_type": "stream",
     "text": [
      "[nltk_data] Downloading package punkt to\n",
      "[nltk_data]     C:\\Users\\user\\AppData\\Roaming\\nltk_data...\n",
      "[nltk_data]   Unzipping tokenizers\\punkt.zip.\n"
     ]
    },
    {
     "data": {
      "text/plain": [
       "True"
      ]
     },
     "execution_count": 74,
     "metadata": {},
     "output_type": "execute_result"
    }
   ],
   "source": [
    "import nltk\n",
    "nltk.download('punkt')"
   ]
  },
  {
   "cell_type": "code",
   "execution_count": 76,
   "metadata": {},
   "outputs": [
    {
     "name": "stderr",
     "output_type": "stream",
     "text": [
      "[nltk_data] Downloading package averaged_perceptron_tagger to\n",
      "[nltk_data]     C:\\Users\\user\\AppData\\Roaming\\nltk_data...\n",
      "[nltk_data]   Unzipping taggers\\averaged_perceptron_tagger.zip.\n"
     ]
    },
    {
     "data": {
      "text/plain": [
       "True"
      ]
     },
     "execution_count": 76,
     "metadata": {},
     "output_type": "execute_result"
    }
   ],
   "source": [
    "nltk.download('averaged_perceptron_tagger')"
   ]
  },
  {
   "cell_type": "code",
   "execution_count": 80,
   "metadata": {},
   "outputs": [
    {
     "name": "stdout",
     "output_type": "stream",
     "text": [
      "they\n"
     ]
    }
   ],
   "source": [
    "tokens= pos_tag(word_tokenize(review1))\n",
    "print(tokens[0][0])"
   ]
  },
  {
   "cell_type": "code",
   "execution_count": null,
   "metadata": {},
   "outputs": [],
   "source": [
    "import nltk\n",
    "from nltk.tag.stanford import NERTagger\n",
    "st = NERTagger('stanford-ner/all.3class.distsim.crf.ser.gz', 'stanford-ner/stanford-ner.jar')\n",
    "text = review1\n",
    "\n",
    "for sent in nltk.sent_tokenize(text):\n",
    "    tokens = nltk.tokenize.word_tokenize(sent)\n",
    "    tags = st.tag(tokens)\n",
    "    for tag in tags:\n",
    "        if tag[1]=='PERSON': print tag"
   ]
  },
  {
   "cell_type": "code",
   "execution_count": 86,
   "metadata": {},
   "outputs": [
    {
     "name": "stdout",
     "output_type": "stream",
     "text": [
      "('series', 'NN')\n",
      "('release', 'NN')\n",
      "('audience', 'NN')\n",
      "('process', 'NN')\n",
      "('paste', 'NN')\n",
      "('game', 'NN')\n",
      "('triss', 'NN')\n",
      "('nothing', 'NN')\n",
      "('geralt', 'NN')\n",
      "('everything', 'NN')\n",
      "('romance', 'NN')\n",
      "('option', 'NN')\n",
      "('isn', 'NN')\n",
      "('thing', 'NN')\n",
      "('nothing', 'NN')\n",
      "('player', 'NN')\n",
      "('hand', 'NN')\n",
      "('geralt', 'NN')\n",
      "('vision', 'NN')\n",
      "('player', 'NN')\n",
      "('involvement', 'NN')\n",
      "('monologuing', 'NN')\n",
      "('player', 'NN')\n",
      "('scene', 'NN')\n",
      "('rollercoaster', 'NN')\n",
      "('formula', 'NN')\n",
      "('talk', 'NN')\n",
      "('person', 'NN')\n",
      "('person', 'NN')\n",
      "('person', 'NN')\n",
      "('get', 'NN')\n",
      "('money', 'NN')\n",
      "('person', 'NN')\n",
      "('quest', 'NN')\n",
      "('combat', 'NN')\n",
      "('isn', 'NN')\n",
      "('t', 'NN')\n",
      "('predecessor', 'NN')\n",
      "('thought', 'NN')\n",
      "('t', 'NN')\n",
      "('time', 'NN')\n",
      "('day', 'NN')\n",
      "('gwent', 'NN')\n",
      "('minigame', 'NN')\n",
      "('minigame', 'NN')\n",
      "('shouldn', 'NN')\n",
      "('t', 'NN')\n",
      "('game', 'NN')\n",
      "('gwent', 'NN')\n",
      "('spin', 'NN')\n",
      "('expansion', 'NN')\n",
      "('gwent', 'NN')\n",
      "('balance', 'NN')\n",
      "('swearing', 'NN')\n",
      "('shame', 'NN')\n",
      "('game', 'NN')\n",
      "('everything', 'NN')\n",
      "('world', 'NN')\n",
      "('gameplay', 'NN')\n",
      "('meh', 'NN')\n",
      "('experience', 'NN')\n"
     ]
    }
   ],
   "source": [
    "for token in tokens:\n",
    "    if token[1] == \"NN\":\n",
    "        print(token)"
   ]
  },
  {
   "cell_type": "code",
   "execution_count": null,
   "metadata": {},
   "outputs": [],
   "source": []
  }
 ],
 "metadata": {
  "interpreter": {
   "hash": "85e8a53d5ba2d33632fb0c92ca6e341fb85b47c4f03404d68127455a07428bf1"
  },
  "kernelspec": {
   "display_name": "Python 3.9.0 64-bit ('.venv': venv)",
   "language": "python",
   "name": "python3"
  },
  "language_info": {
   "codemirror_mode": {
    "name": "ipython",
    "version": 3
   },
   "file_extension": ".py",
   "mimetype": "text/x-python",
   "name": "python",
   "nbconvert_exporter": "python",
   "pygments_lexer": "ipython3",
   "version": "3.9.0"
  },
  "orig_nbformat": 4
 },
 "nbformat": 4,
 "nbformat_minor": 2
}
