{
 "cells": [
  {
   "cell_type": "code",
   "execution_count": 1,
   "metadata": {},
   "outputs": [],
   "source": [
    "import pandas as pd"
   ]
  },
  {
   "cell_type": "code",
   "execution_count": 2,
   "metadata": {},
   "outputs": [
    {
     "name": "stdout",
     "output_type": "stream",
     "text": [
      " Volume in drive C has no label.\n",
      " Volume Serial Number is 0E84-94DB\n",
      "\n",
      " Directory of c:\\Users\\user\\T5\\PROJECT\\game-reviews-sentiment-analysis\\workspace\n",
      "\n",
      "12/22/2021  01:26 AM    <DIR>          .\n",
      "12/22/2021  01:26 AM    <DIR>          ..\n",
      "12/22/2021  12:45 AM            13,264 reader.ipynb\n",
      "12/24/2021  06:47 PM             2,316 test.ipynb\n",
      "               2 File(s)         15,580 bytes\n",
      "               2 Dir(s)  92,801,765,376 bytes free\n"
     ]
    }
   ],
   "source": [
    "ls "
   ]
  },
  {
   "cell_type": "code",
   "execution_count": 3,
   "metadata": {},
   "outputs": [
    {
     "name": "stdout",
     "output_type": "stream",
     "text": [
      "c:\\Users\\user\\T5\\PROJECT\\game-reviews-sentiment-analysis\\data\n"
     ]
    }
   ],
   "source": [
    "cd ../data"
   ]
  },
  {
   "cell_type": "code",
   "execution_count": 3,
   "metadata": {},
   "outputs": [],
   "source": [
    "x = pd.read_csv(\"data/steam_reviews.csv\")"
   ]
  },
  {
   "cell_type": "code",
   "execution_count": 6,
   "metadata": {},
   "outputs": [],
   "source": [
    "y=x.head()"
   ]
  },
  {
   "cell_type": "code",
   "execution_count": 14,
   "metadata": {},
   "outputs": [],
   "source": [
    "x= x[x[\"language\"] == \"english\"]"
   ]
  },
  {
   "cell_type": "code",
   "execution_count": 18,
   "metadata": {},
   "outputs": [
    {
     "data": {
      "text/plain": [
       "Index(['Unnamed: 0', 'app_id', 'app_name', 'review_id', 'language', 'review',\n",
       "       'timestamp_created', 'timestamp_updated', 'recommended',\n",
       "       'votes_helpful', 'votes_funny', 'weighted_vote_score', 'comment_count',\n",
       "       'steam_purchase', 'received_for_free', 'written_during_early_access',\n",
       "       'author.steamid', 'author.num_games_owned', 'author.num_reviews',\n",
       "       'author.playtime_forever', 'author.playtime_last_two_weeks',\n",
       "       'author.playtime_at_review', 'author.last_played'],\n",
       "      dtype='object')"
      ]
     },
     "execution_count": 18,
     "metadata": {},
     "output_type": "execute_result"
    }
   ],
   "source": [
    "x.columns"
   ]
  },
  {
   "cell_type": "code",
   "execution_count": 19,
   "metadata": {},
   "outputs": [],
   "source": [
    "x.drop('Unnamed: 0', axis=1, inplace=True)"
   ]
  },
  {
   "cell_type": "code",
   "execution_count": 21,
   "metadata": {},
   "outputs": [
    {
     "data": {
      "text/html": [
       "<div>\n",
       "<style scoped>\n",
       "    .dataframe tbody tr th:only-of-type {\n",
       "        vertical-align: middle;\n",
       "    }\n",
       "\n",
       "    .dataframe tbody tr th {\n",
       "        vertical-align: top;\n",
       "    }\n",
       "\n",
       "    .dataframe thead th {\n",
       "        text-align: right;\n",
       "    }\n",
       "</style>\n",
       "<table border=\"1\" class=\"dataframe\">\n",
       "  <thead>\n",
       "    <tr style=\"text-align: right;\">\n",
       "      <th></th>\n",
       "      <th>app_id</th>\n",
       "      <th>app_name</th>\n",
       "      <th>review_id</th>\n",
       "      <th>language</th>\n",
       "      <th>review</th>\n",
       "      <th>timestamp_created</th>\n",
       "      <th>timestamp_updated</th>\n",
       "      <th>recommended</th>\n",
       "      <th>votes_helpful</th>\n",
       "      <th>votes_funny</th>\n",
       "      <th>...</th>\n",
       "      <th>steam_purchase</th>\n",
       "      <th>received_for_free</th>\n",
       "      <th>written_during_early_access</th>\n",
       "      <th>author.steamid</th>\n",
       "      <th>author.num_games_owned</th>\n",
       "      <th>author.num_reviews</th>\n",
       "      <th>author.playtime_forever</th>\n",
       "      <th>author.playtime_last_two_weeks</th>\n",
       "      <th>author.playtime_at_review</th>\n",
       "      <th>author.last_played</th>\n",
       "    </tr>\n",
       "  </thead>\n",
       "  <tbody>\n",
       "    <tr>\n",
       "      <th>3</th>\n",
       "      <td>292030</td>\n",
       "      <td>The Witcher 3: Wild Hunt</td>\n",
       "      <td>85184605</td>\n",
       "      <td>english</td>\n",
       "      <td>One of the best RPG's of all time, worthy of a...</td>\n",
       "      <td>1611379970</td>\n",
       "      <td>1611379970</td>\n",
       "      <td>True</td>\n",
       "      <td>0</td>\n",
       "      <td>0</td>\n",
       "      <td>...</td>\n",
       "      <td>True</td>\n",
       "      <td>False</td>\n",
       "      <td>False</td>\n",
       "      <td>76561199054755373</td>\n",
       "      <td>5</td>\n",
       "      <td>3</td>\n",
       "      <td>5587.0</td>\n",
       "      <td>3200.0</td>\n",
       "      <td>5524.0</td>\n",
       "      <td>1.611384e+09</td>\n",
       "    </tr>\n",
       "    <tr>\n",
       "      <th>5</th>\n",
       "      <td>292030</td>\n",
       "      <td>The Witcher 3: Wild Hunt</td>\n",
       "      <td>85184171</td>\n",
       "      <td>english</td>\n",
       "      <td>good story, good graphics. lots to do.</td>\n",
       "      <td>1611379264</td>\n",
       "      <td>1611379264</td>\n",
       "      <td>True</td>\n",
       "      <td>0</td>\n",
       "      <td>0</td>\n",
       "      <td>...</td>\n",
       "      <td>True</td>\n",
       "      <td>False</td>\n",
       "      <td>False</td>\n",
       "      <td>76561198170193529</td>\n",
       "      <td>11</td>\n",
       "      <td>1</td>\n",
       "      <td>823.0</td>\n",
       "      <td>823.0</td>\n",
       "      <td>823.0</td>\n",
       "      <td>1.611379e+09</td>\n",
       "    </tr>\n",
       "    <tr>\n",
       "      <th>6</th>\n",
       "      <td>292030</td>\n",
       "      <td>The Witcher 3: Wild Hunt</td>\n",
       "      <td>85184064</td>\n",
       "      <td>english</td>\n",
       "      <td>dis gud,</td>\n",
       "      <td>1611379091</td>\n",
       "      <td>1611379091</td>\n",
       "      <td>True</td>\n",
       "      <td>0</td>\n",
       "      <td>0</td>\n",
       "      <td>...</td>\n",
       "      <td>True</td>\n",
       "      <td>False</td>\n",
       "      <td>False</td>\n",
       "      <td>76561198119302812</td>\n",
       "      <td>27</td>\n",
       "      <td>2</td>\n",
       "      <td>4192.0</td>\n",
       "      <td>3398.0</td>\n",
       "      <td>4192.0</td>\n",
       "      <td>1.611352e+09</td>\n",
       "    </tr>\n",
       "    <tr>\n",
       "      <th>18</th>\n",
       "      <td>292030</td>\n",
       "      <td>The Witcher 3: Wild Hunt</td>\n",
       "      <td>85180436</td>\n",
       "      <td>english</td>\n",
       "      <td>favorite game of all time cant wait for the Ne...</td>\n",
       "      <td>1611373086</td>\n",
       "      <td>1611373086</td>\n",
       "      <td>True</td>\n",
       "      <td>0</td>\n",
       "      <td>0</td>\n",
       "      <td>...</td>\n",
       "      <td>True</td>\n",
       "      <td>False</td>\n",
       "      <td>False</td>\n",
       "      <td>76561198065591528</td>\n",
       "      <td>33</td>\n",
       "      <td>1</td>\n",
       "      <td>23329.0</td>\n",
       "      <td>177.0</td>\n",
       "      <td>23329.0</td>\n",
       "      <td>1.611219e+09</td>\n",
       "    </tr>\n",
       "    <tr>\n",
       "      <th>20</th>\n",
       "      <td>292030</td>\n",
       "      <td>The Witcher 3: Wild Hunt</td>\n",
       "      <td>85179753</td>\n",
       "      <td>english</td>\n",
       "      <td>Why wouldn't you get this</td>\n",
       "      <td>1611371978</td>\n",
       "      <td>1611371978</td>\n",
       "      <td>True</td>\n",
       "      <td>0</td>\n",
       "      <td>0</td>\n",
       "      <td>...</td>\n",
       "      <td>True</td>\n",
       "      <td>False</td>\n",
       "      <td>False</td>\n",
       "      <td>76561198996835044</td>\n",
       "      <td>131</td>\n",
       "      <td>2</td>\n",
       "      <td>8557.0</td>\n",
       "      <td>2004.0</td>\n",
       "      <td>8557.0</td>\n",
       "      <td>1.611371e+09</td>\n",
       "    </tr>\n",
       "  </tbody>\n",
       "</table>\n",
       "<p>5 rows × 22 columns</p>\n",
       "</div>"
      ],
      "text/plain": [
       "    app_id                  app_name  review_id language  \\\n",
       "3   292030  The Witcher 3: Wild Hunt   85184605  english   \n",
       "5   292030  The Witcher 3: Wild Hunt   85184171  english   \n",
       "6   292030  The Witcher 3: Wild Hunt   85184064  english   \n",
       "18  292030  The Witcher 3: Wild Hunt   85180436  english   \n",
       "20  292030  The Witcher 3: Wild Hunt   85179753  english   \n",
       "\n",
       "                                               review  timestamp_created  \\\n",
       "3   One of the best RPG's of all time, worthy of a...         1611379970   \n",
       "5              good story, good graphics. lots to do.         1611379264   \n",
       "6                                            dis gud,         1611379091   \n",
       "18  favorite game of all time cant wait for the Ne...         1611373086   \n",
       "20                          Why wouldn't you get this         1611371978   \n",
       "\n",
       "    timestamp_updated  recommended  votes_helpful  votes_funny  ...  \\\n",
       "3          1611379970         True              0            0  ...   \n",
       "5          1611379264         True              0            0  ...   \n",
       "6          1611379091         True              0            0  ...   \n",
       "18         1611373086         True              0            0  ...   \n",
       "20         1611371978         True              0            0  ...   \n",
       "\n",
       "    steam_purchase  received_for_free  written_during_early_access  \\\n",
       "3             True              False                        False   \n",
       "5             True              False                        False   \n",
       "6             True              False                        False   \n",
       "18            True              False                        False   \n",
       "20            True              False                        False   \n",
       "\n",
       "       author.steamid  author.num_games_owned  author.num_reviews  \\\n",
       "3   76561199054755373                       5                   3   \n",
       "5   76561198170193529                      11                   1   \n",
       "6   76561198119302812                      27                   2   \n",
       "18  76561198065591528                      33                   1   \n",
       "20  76561198996835044                     131                   2   \n",
       "\n",
       "    author.playtime_forever  author.playtime_last_two_weeks  \\\n",
       "3                    5587.0                          3200.0   \n",
       "5                     823.0                           823.0   \n",
       "6                    4192.0                          3398.0   \n",
       "18                  23329.0                           177.0   \n",
       "20                   8557.0                          2004.0   \n",
       "\n",
       "    author.playtime_at_review  author.last_played  \n",
       "3                      5524.0        1.611384e+09  \n",
       "5                       823.0        1.611379e+09  \n",
       "6                      4192.0        1.611352e+09  \n",
       "18                    23329.0        1.611219e+09  \n",
       "20                     8557.0        1.611371e+09  \n",
       "\n",
       "[5 rows x 22 columns]"
      ]
     },
     "execution_count": 21,
     "metadata": {},
     "output_type": "execute_result"
    }
   ],
   "source": [
    "x.head()"
   ]
  },
  {
   "cell_type": "code",
   "execution_count": 17,
   "metadata": {},
   "outputs": [
    {
     "name": "stdout",
     "output_type": "stream",
     "text": [
      "c:\\Users\\user\\T5\\PROJECT\\NLP\\data\n"
     ]
    }
   ],
   "source": [
    "cd data"
   ]
  },
  {
   "cell_type": "code",
   "execution_count": 23,
   "metadata": {},
   "outputs": [],
   "source": [
    "x.to_csv('steam_reviews-ENGLISH.csv', index=False)"
   ]
  },
  {
   "cell_type": "code",
   "execution_count": 4,
   "metadata": {},
   "outputs": [
    {
     "name": "stdout",
     "output_type": "stream",
     "text": [
      " Volume in drive C has no label.\n",
      " Volume Serial Number is 0E84-94DB\n",
      "\n",
      " Directory of c:\\Users\\user\\T5\\PROJECT\\game-reviews-sentiment-analysis\\data\n",
      "\n",
      "12/23/2021  09:07 AM    <DIR>          .\n",
      "12/23/2021  09:07 AM    <DIR>          ..\n",
      "01/25/2021  03:29 AM     8,171,787,229 steam_reviews.csv\n",
      "12/22/2021  12:43 AM     3,624,010,030 steam_reviews-ENGLISH.csv\n",
      "12/23/2021  09:07 AM        32,721,370 steam_reviews-ENGLISH-sample.csv\n",
      "               3 File(s) 11,828,518,629 bytes\n",
      "               2 Dir(s)  92,801,703,936 bytes free\n"
     ]
    }
   ],
   "source": [
    "ls"
   ]
  },
  {
   "cell_type": "code",
   "execution_count": null,
   "metadata": {},
   "outputs": [],
   "source": []
  }
 ],
 "metadata": {
  "interpreter": {
   "hash": "63fd5069d213b44bf678585dea6b12cceca9941eaf7f819626cde1f2670de90d"
  },
  "kernelspec": {
   "display_name": "Python 3.9.0 64-bit",
   "language": "python",
   "name": "python3"
  },
  "language_info": {
   "codemirror_mode": {
    "name": "ipython",
    "version": 3
   },
   "file_extension": ".py",
   "mimetype": "text/x-python",
   "name": "python",
   "nbconvert_exporter": "python",
   "pygments_lexer": "ipython3",
   "version": "3.9.0"
  },
  "orig_nbformat": 4
 },
 "nbformat": 4,
 "nbformat_minor": 2
}
