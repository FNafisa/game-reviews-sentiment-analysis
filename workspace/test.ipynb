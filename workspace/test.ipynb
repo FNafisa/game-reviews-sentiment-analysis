{
 "cells": [
  {
   "cell_type": "code",
   "execution_count": 5,
   "metadata": {},
   "outputs": [],
   "source": [
    "import pandas as pd"
   ]
  },
  {
   "cell_type": "code",
   "execution_count": 4,
   "metadata": {},
   "outputs": [
    {
     "name": "stdout",
     "output_type": "stream",
     "text": [
      " Volume in drive C has no label.\n",
      " Volume Serial Number is 0E84-94DB\n",
      "\n",
      " Directory of c:\\Users\\user\\T5\\PROJECT\\game-reviews-sentiment-analysis\\data\n",
      "\n",
      "12/22/2021  12:41 AM    <DIR>          .\n",
      "12/22/2021  12:41 AM    <DIR>          ..\n",
      "01/25/2021  03:29 AM     8,171,787,229 steam_reviews.csv\n",
      "12/22/2021  12:43 AM     3,624,010,030 steam_reviews-ENGLISH.csv\n",
      "               2 File(s) 11,795,797,259 bytes\n",
      "               2 Dir(s)  94,383,632,384 bytes free\n"
     ]
    }
   ],
   "source": [
    "ls data"
   ]
  },
  {
   "cell_type": "code",
   "execution_count": 8,
   "metadata": {},
   "outputs": [],
   "source": [
    "sample= pd.read_csv(\"data/steam_reviews-ENGLISH.csv\", nrows=100000)"
   ]
  },
  {
   "cell_type": "code",
   "execution_count": 11,
   "metadata": {},
   "outputs": [
    {
     "name": "stdout",
     "output_type": "stream",
     "text": [
      "c:\\Users\\user\\T5\\PROJECT\\game-reviews-sentiment-analysis\\data\n"
     ]
    }
   ],
   "source": [
    "cd data"
   ]
  },
  {
   "cell_type": "code",
   "execution_count": 12,
   "metadata": {},
   "outputs": [],
   "source": [
    "sample.to_csv('steam_reviews-ENGLISH-sample.csv', index=False)"
   ]
  },
  {
   "cell_type": "code",
   "execution_count": null,
   "metadata": {},
   "outputs": [],
   "source": []
  }
 ],
 "metadata": {
  "interpreter": {
   "hash": "85e8a53d5ba2d33632fb0c92ca6e341fb85b47c4f03404d68127455a07428bf1"
  },
  "kernelspec": {
   "display_name": "Python 3.9.0 64-bit ('.venv': venv)",
   "language": "python",
   "name": "python3"
  },
  "language_info": {
   "codemirror_mode": {
    "name": "ipython",
    "version": 3
   },
   "file_extension": ".py",
   "mimetype": "text/x-python",
   "name": "python",
   "nbconvert_exporter": "python",
   "pygments_lexer": "ipython3",
   "version": "3.9.0"
  },
  "orig_nbformat": 4
 },
 "nbformat": 4,
 "nbformat_minor": 2
}
